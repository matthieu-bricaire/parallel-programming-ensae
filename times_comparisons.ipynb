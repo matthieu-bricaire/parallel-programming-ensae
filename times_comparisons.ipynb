{
 "cells": [
  {
   "cell_type": "code",
   "execution_count": null,
   "metadata": {},
   "outputs": [],
   "source": [
    "import tqdm\n",
    "import pandas as pd\n",
    "from sigmulib import compute_sigmul\n",
    "\n",
    "from utils import *"
   ]
  },
  {
   "cell_type": "code",
   "execution_count": null,
   "metadata": {},
   "outputs": [],
   "source": [
    "dims = [2**i for i in range(12)]\n",
    "all_times = pd.DataFrame(index=dims, columns=['list', 'tensor_1', 'tensor_2', 'tensor_3', 'torch'])\n",
    "diffs = pd.DataFrame(index=dims, columns=['list', 'tensor_1', 'tensor_2'])\n",
    "\n",
    "for dim in tqdm(dims):\n",
    "    A = torch.normal(0, 1, (dim, dim))\n",
    "\n",
    "    times = compare_times(A, n_rep=50)\n",
    "    all_times.loc[dim, times.keys()] = times.values()\n",
    "\n",
    "    Bt = sigmul_torch(A)\n",
    "    diffs.loc[dim, 'list'] = torch.abs(Bt - torch.tensor(compute_sigmul(A.tolist())))\n",
    "    diffs.loc[dim, 'tensor_1'] = torch.abs(Bt - torch.tensor(compute_sigmul(A)))\n",
    "    diffs.loc[dim, 'tensor_2'] = torch.abs(Bt - sigmul_from_tensor(A))\n"
   ]
  },
  {
   "cell_type": "code",
   "execution_count": null,
   "metadata": {},
   "outputs": [],
   "source": [
    "all_times.plot()"
   ]
  }
 ],
 "metadata": {
  "kernelspec": {
   "display_name": "Python 3",
   "language": "python",
   "name": "python3"
  },
  "language_info": {
   "codemirror_mode": {
    "name": "ipython",
    "version": 3
   },
   "file_extension": ".py",
   "mimetype": "text/x-python",
   "name": "python",
   "nbconvert_exporter": "python",
   "pygments_lexer": "ipython3",
   "version": "3.11.5"
  }
 },
 "nbformat": 4,
 "nbformat_minor": 2
}
